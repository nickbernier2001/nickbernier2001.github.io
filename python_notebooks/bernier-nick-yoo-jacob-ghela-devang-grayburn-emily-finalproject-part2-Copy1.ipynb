{
 "cells": [
  {
   "cell_type": "markdown",
   "id": "26a640b9",
   "metadata": {
    "pycharm": {
     "name": "#%% md\n"
    }
   },
   "source": [
    "# Final Project Part 2"
   ]
  },
  {
   "cell_type": "markdown",
   "id": "27f83a12",
   "metadata": {
    "pycharm": {
     "name": "#%% md\n"
    }
   },
   "source": [
    "## Group Members: Nick Bernier, Jacob Yoo, Devang Ghela, Emily Grayburn"
   ]
  },
  {
   "cell_type": "code",
   "execution_count": 3,
   "id": "c695d795",
   "metadata": {
    "pycharm": {
     "name": "#%%\n"
    }
   },
   "outputs": [],
   "source": [
    "import pandas as pd\n",
    "import numpy as np\n",
    "import matplotlib.pyplot as plt\n",
    "import altair as alt"
   ]
  },
  {
   "cell_type": "code",
   "execution_count": 4,
   "id": "c2369ac3",
   "metadata": {
    "pycharm": {
     "name": "#%%\n"
    }
   },
   "outputs": [],
   "source": [
    "myJekyllDir = '/Users/Louie/nickbernier2001.github.io/assets/json/'"
   ]
  },
  {
   "cell_type": "code",
   "execution_count": 5,
   "id": "3db91c75",
   "metadata": {
    "pycharm": {
     "name": "#%%\n"
    }
   },
   "outputs": [],
   "source": [
    "df = pd.read_csv('Census_Data_-_Selected_socioeconomic_indicators_in_Chicago__2008___2012.csv')"
   ]
  },
  {
   "cell_type": "code",
   "execution_count": 6,
   "id": "03976b2c",
   "metadata": {
    "pycharm": {
     "name": "#%%\n"
    }
   },
   "outputs": [
    {
     "data": {
      "text/html": [
       "<div>\n",
       "<style scoped>\n",
       "    .dataframe tbody tr th:only-of-type {\n",
       "        vertical-align: middle;\n",
       "    }\n",
       "\n",
       "    .dataframe tbody tr th {\n",
       "        vertical-align: top;\n",
       "    }\n",
       "\n",
       "    .dataframe thead th {\n",
       "        text-align: right;\n",
       "    }\n",
       "</style>\n",
       "<table border=\"1\" class=\"dataframe\">\n",
       "  <thead>\n",
       "    <tr style=\"text-align: right;\">\n",
       "      <th></th>\n",
       "      <th>Community Area Number</th>\n",
       "      <th>COMMUNITY AREA NAME</th>\n",
       "      <th>PERCENT OF HOUSING CROWDED</th>\n",
       "      <th>PERCENT HOUSEHOLDS BELOW POVERTY</th>\n",
       "      <th>PERCENT AGED 16+ UNEMPLOYED</th>\n",
       "      <th>PERCENT AGED 25+ WITHOUT HIGH SCHOOL DIPLOMA</th>\n",
       "      <th>PERCENT AGED UNDER 18 OR OVER 64</th>\n",
       "      <th>PER CAPITA INCOME</th>\n",
       "      <th>HARDSHIP INDEX</th>\n",
       "    </tr>\n",
       "  </thead>\n",
       "  <tbody>\n",
       "    <tr>\n",
       "      <th>0</th>\n",
       "      <td>1.0</td>\n",
       "      <td>Rogers Park</td>\n",
       "      <td>7.7</td>\n",
       "      <td>23.6</td>\n",
       "      <td>8.7</td>\n",
       "      <td>18.2</td>\n",
       "      <td>27.5</td>\n",
       "      <td>23939</td>\n",
       "      <td>39.0</td>\n",
       "    </tr>\n",
       "    <tr>\n",
       "      <th>1</th>\n",
       "      <td>2.0</td>\n",
       "      <td>West Ridge</td>\n",
       "      <td>7.8</td>\n",
       "      <td>17.2</td>\n",
       "      <td>8.8</td>\n",
       "      <td>20.8</td>\n",
       "      <td>38.5</td>\n",
       "      <td>23040</td>\n",
       "      <td>46.0</td>\n",
       "    </tr>\n",
       "    <tr>\n",
       "      <th>2</th>\n",
       "      <td>3.0</td>\n",
       "      <td>Uptown</td>\n",
       "      <td>3.8</td>\n",
       "      <td>24.0</td>\n",
       "      <td>8.9</td>\n",
       "      <td>11.8</td>\n",
       "      <td>22.2</td>\n",
       "      <td>35787</td>\n",
       "      <td>20.0</td>\n",
       "    </tr>\n",
       "    <tr>\n",
       "      <th>3</th>\n",
       "      <td>4.0</td>\n",
       "      <td>Lincoln Square</td>\n",
       "      <td>3.4</td>\n",
       "      <td>10.9</td>\n",
       "      <td>8.2</td>\n",
       "      <td>13.4</td>\n",
       "      <td>25.5</td>\n",
       "      <td>37524</td>\n",
       "      <td>17.0</td>\n",
       "    </tr>\n",
       "    <tr>\n",
       "      <th>4</th>\n",
       "      <td>5.0</td>\n",
       "      <td>North Center</td>\n",
       "      <td>0.3</td>\n",
       "      <td>7.5</td>\n",
       "      <td>5.2</td>\n",
       "      <td>4.5</td>\n",
       "      <td>26.2</td>\n",
       "      <td>57123</td>\n",
       "      <td>6.0</td>\n",
       "    </tr>\n",
       "    <tr>\n",
       "      <th>...</th>\n",
       "      <td>...</td>\n",
       "      <td>...</td>\n",
       "      <td>...</td>\n",
       "      <td>...</td>\n",
       "      <td>...</td>\n",
       "      <td>...</td>\n",
       "      <td>...</td>\n",
       "      <td>...</td>\n",
       "      <td>...</td>\n",
       "    </tr>\n",
       "    <tr>\n",
       "      <th>73</th>\n",
       "      <td>74.0</td>\n",
       "      <td>Mount Greenwood</td>\n",
       "      <td>1.0</td>\n",
       "      <td>3.4</td>\n",
       "      <td>8.7</td>\n",
       "      <td>4.3</td>\n",
       "      <td>36.8</td>\n",
       "      <td>34381</td>\n",
       "      <td>16.0</td>\n",
       "    </tr>\n",
       "    <tr>\n",
       "      <th>74</th>\n",
       "      <td>75.0</td>\n",
       "      <td>Morgan Park</td>\n",
       "      <td>0.8</td>\n",
       "      <td>13.2</td>\n",
       "      <td>15.0</td>\n",
       "      <td>10.8</td>\n",
       "      <td>40.3</td>\n",
       "      <td>27149</td>\n",
       "      <td>30.0</td>\n",
       "    </tr>\n",
       "    <tr>\n",
       "      <th>75</th>\n",
       "      <td>76.0</td>\n",
       "      <td>O'Hare</td>\n",
       "      <td>3.6</td>\n",
       "      <td>15.4</td>\n",
       "      <td>7.1</td>\n",
       "      <td>10.9</td>\n",
       "      <td>30.3</td>\n",
       "      <td>25828</td>\n",
       "      <td>24.0</td>\n",
       "    </tr>\n",
       "    <tr>\n",
       "      <th>76</th>\n",
       "      <td>77.0</td>\n",
       "      <td>Edgewater</td>\n",
       "      <td>4.1</td>\n",
       "      <td>18.2</td>\n",
       "      <td>9.2</td>\n",
       "      <td>9.7</td>\n",
       "      <td>23.8</td>\n",
       "      <td>33385</td>\n",
       "      <td>19.0</td>\n",
       "    </tr>\n",
       "    <tr>\n",
       "      <th>77</th>\n",
       "      <td>NaN</td>\n",
       "      <td>CHICAGO</td>\n",
       "      <td>4.7</td>\n",
       "      <td>19.7</td>\n",
       "      <td>12.9</td>\n",
       "      <td>19.5</td>\n",
       "      <td>33.5</td>\n",
       "      <td>28202</td>\n",
       "      <td>NaN</td>\n",
       "    </tr>\n",
       "  </tbody>\n",
       "</table>\n",
       "<p>78 rows × 9 columns</p>\n",
       "</div>"
      ],
      "text/plain": [
       "    Community Area Number COMMUNITY AREA NAME  PERCENT OF HOUSING CROWDED  \\\n",
       "0                     1.0         Rogers Park                         7.7   \n",
       "1                     2.0          West Ridge                         7.8   \n",
       "2                     3.0              Uptown                         3.8   \n",
       "3                     4.0      Lincoln Square                         3.4   \n",
       "4                     5.0        North Center                         0.3   \n",
       "..                    ...                 ...                         ...   \n",
       "73                   74.0     Mount Greenwood                         1.0   \n",
       "74                   75.0         Morgan Park                         0.8   \n",
       "75                   76.0              O'Hare                         3.6   \n",
       "76                   77.0           Edgewater                         4.1   \n",
       "77                    NaN             CHICAGO                         4.7   \n",
       "\n",
       "    PERCENT HOUSEHOLDS BELOW POVERTY  PERCENT AGED 16+ UNEMPLOYED  \\\n",
       "0                               23.6                          8.7   \n",
       "1                               17.2                          8.8   \n",
       "2                               24.0                          8.9   \n",
       "3                               10.9                          8.2   \n",
       "4                                7.5                          5.2   \n",
       "..                               ...                          ...   \n",
       "73                               3.4                          8.7   \n",
       "74                              13.2                         15.0   \n",
       "75                              15.4                          7.1   \n",
       "76                              18.2                          9.2   \n",
       "77                              19.7                         12.9   \n",
       "\n",
       "    PERCENT AGED 25+ WITHOUT HIGH SCHOOL DIPLOMA  \\\n",
       "0                                           18.2   \n",
       "1                                           20.8   \n",
       "2                                           11.8   \n",
       "3                                           13.4   \n",
       "4                                            4.5   \n",
       "..                                           ...   \n",
       "73                                           4.3   \n",
       "74                                          10.8   \n",
       "75                                          10.9   \n",
       "76                                           9.7   \n",
       "77                                          19.5   \n",
       "\n",
       "    PERCENT AGED UNDER 18 OR OVER 64  PER CAPITA INCOME   HARDSHIP INDEX  \n",
       "0                               27.5               23939            39.0  \n",
       "1                               38.5               23040            46.0  \n",
       "2                               22.2               35787            20.0  \n",
       "3                               25.5               37524            17.0  \n",
       "4                               26.2               57123             6.0  \n",
       "..                               ...                 ...             ...  \n",
       "73                              36.8               34381            16.0  \n",
       "74                              40.3               27149            30.0  \n",
       "75                              30.3               25828            24.0  \n",
       "76                              23.8               33385            19.0  \n",
       "77                              33.5               28202             NaN  \n",
       "\n",
       "[78 rows x 9 columns]"
      ]
     },
     "execution_count": 6,
     "metadata": {},
     "output_type": "execute_result"
    }
   ],
   "source": [
    "df"
   ]
  },
  {
   "cell_type": "code",
   "execution_count": 7,
   "id": "c8860805",
   "metadata": {
    "pycharm": {
     "name": "#%%\n"
    }
   },
   "outputs": [
    {
     "data": {
      "text/html": [
       "\n",
       "<div id=\"altair-viz-690cfda7212443b591839cbf9cc794ca\"></div>\n",
       "<script type=\"text/javascript\">\n",
       "  var VEGA_DEBUG = (typeof VEGA_DEBUG == \"undefined\") ? {} : VEGA_DEBUG;\n",
       "  (function(spec, embedOpt){\n",
       "    let outputDiv = document.currentScript.previousElementSibling;\n",
       "    if (outputDiv.id !== \"altair-viz-690cfda7212443b591839cbf9cc794ca\") {\n",
       "      outputDiv = document.getElementById(\"altair-viz-690cfda7212443b591839cbf9cc794ca\");\n",
       "    }\n",
       "    const paths = {\n",
       "      \"vega\": \"https://cdn.jsdelivr.net/npm//vega@5?noext\",\n",
       "      \"vega-lib\": \"https://cdn.jsdelivr.net/npm//vega-lib?noext\",\n",
       "      \"vega-lite\": \"https://cdn.jsdelivr.net/npm//vega-lite@4.17.0?noext\",\n",
       "      \"vega-embed\": \"https://cdn.jsdelivr.net/npm//vega-embed@6?noext\",\n",
       "    };\n",
       "\n",
       "    function maybeLoadScript(lib, version) {\n",
       "      var key = `${lib.replace(\"-\", \"\")}_version`;\n",
       "      return (VEGA_DEBUG[key] == version) ?\n",
       "        Promise.resolve(paths[lib]) :\n",
       "        new Promise(function(resolve, reject) {\n",
       "          var s = document.createElement('script');\n",
       "          document.getElementsByTagName(\"head\")[0].appendChild(s);\n",
       "          s.async = true;\n",
       "          s.onload = () => {\n",
       "            VEGA_DEBUG[key] = version;\n",
       "            return resolve(paths[lib]);\n",
       "          };\n",
       "          s.onerror = () => reject(`Error loading script: ${paths[lib]}`);\n",
       "          s.src = paths[lib];\n",
       "        });\n",
       "    }\n",
       "\n",
       "    function showError(err) {\n",
       "      outputDiv.innerHTML = `<div class=\"error\" style=\"color:red;\">${err}</div>`;\n",
       "      throw err;\n",
       "    }\n",
       "\n",
       "    function displayChart(vegaEmbed) {\n",
       "      vegaEmbed(outputDiv, spec, embedOpt)\n",
       "        .catch(err => showError(`Javascript Error: ${err.message}<br>This usually means there's a typo in your chart specification. See the javascript console for the full traceback.`));\n",
       "    }\n",
       "\n",
       "    if(typeof define === \"function\" && define.amd) {\n",
       "      requirejs.config({paths});\n",
       "      require([\"vega-embed\"], displayChart, err => showError(`Error loading script: ${err.message}`));\n",
       "    } else {\n",
       "      maybeLoadScript(\"vega\", \"5\")\n",
       "        .then(() => maybeLoadScript(\"vega-lite\", \"4.17.0\"))\n",
       "        .then(() => maybeLoadScript(\"vega-embed\", \"6\"))\n",
       "        .catch(showError)\n",
       "        .then(() => displayChart(vegaEmbed));\n",
       "    }\n",
       "  })({\"config\": {\"view\": {\"continuousWidth\": 400, \"continuousHeight\": 300}}, \"vconcat\": [{\"mark\": \"point\", \"encoding\": {\"color\": {\"condition\": {\"field\": \"PER CAPITA INCOME \", \"type\": \"quantitative\", \"selection\": \"selector001\"}, \"value\": \"lightgrey\"}, \"x\": {\"field\": \"COMMUNITY AREA NAME\", \"type\": \"nominal\"}, \"y\": {\"field\": \"PER CAPITA INCOME \", \"type\": \"quantitative\"}}, \"selection\": {\"selector001\": {\"type\": \"interval\"}}}, {\"mark\": \"bar\", \"encoding\": {\"color\": {\"field\": \"COMMUNITY AREA NAME\", \"type\": \"nominal\"}, \"x\": {\"field\": \"COMMUNITY AREA NAME\", \"type\": \"nominal\"}, \"y\": {\"field\": \"HARDSHIP INDEX\", \"type\": \"quantitative\"}}, \"transform\": [{\"filter\": {\"selection\": \"selector001\"}}]}], \"data\": {\"name\": \"data-e3bc1aad0c1f18afd84110035dd4bc1b\"}, \"$schema\": \"https://vega.github.io/schema/vega-lite/v4.17.0.json\", \"datasets\": {\"data-e3bc1aad0c1f18afd84110035dd4bc1b\": [{\"Community Area Number\": 1.0, \"COMMUNITY AREA NAME\": \"Rogers Park\", \"PERCENT OF HOUSING CROWDED\": 7.7, \"PERCENT HOUSEHOLDS BELOW POVERTY\": 23.6, \"PERCENT AGED 16+ UNEMPLOYED\": 8.7, \"PERCENT AGED 25+ WITHOUT HIGH SCHOOL DIPLOMA\": 18.2, \"PERCENT AGED UNDER 18 OR OVER 64\": 27.5, \"PER CAPITA INCOME \": 23939, \"HARDSHIP INDEX\": 39.0}, {\"Community Area Number\": 2.0, \"COMMUNITY AREA NAME\": \"West Ridge\", \"PERCENT OF HOUSING CROWDED\": 7.8, \"PERCENT HOUSEHOLDS BELOW POVERTY\": 17.2, \"PERCENT AGED 16+ UNEMPLOYED\": 8.8, \"PERCENT AGED 25+ WITHOUT HIGH SCHOOL DIPLOMA\": 20.8, \"PERCENT AGED UNDER 18 OR OVER 64\": 38.5, \"PER CAPITA INCOME \": 23040, \"HARDSHIP INDEX\": 46.0}, {\"Community Area Number\": 3.0, \"COMMUNITY AREA NAME\": \"Uptown\", \"PERCENT OF HOUSING CROWDED\": 3.8, \"PERCENT HOUSEHOLDS BELOW POVERTY\": 24.0, \"PERCENT AGED 16+ UNEMPLOYED\": 8.9, \"PERCENT AGED 25+ WITHOUT HIGH SCHOOL DIPLOMA\": 11.8, \"PERCENT AGED UNDER 18 OR OVER 64\": 22.2, \"PER CAPITA INCOME \": 35787, \"HARDSHIP INDEX\": 20.0}, {\"Community Area Number\": 4.0, \"COMMUNITY AREA NAME\": \"Lincoln Square\", \"PERCENT OF HOUSING CROWDED\": 3.4, \"PERCENT HOUSEHOLDS BELOW POVERTY\": 10.9, \"PERCENT AGED 16+ UNEMPLOYED\": 8.2, \"PERCENT AGED 25+ WITHOUT HIGH SCHOOL DIPLOMA\": 13.4, \"PERCENT AGED UNDER 18 OR OVER 64\": 25.5, \"PER CAPITA INCOME \": 37524, \"HARDSHIP INDEX\": 17.0}, {\"Community Area Number\": 5.0, \"COMMUNITY AREA NAME\": \"North Center\", \"PERCENT OF HOUSING CROWDED\": 0.3, \"PERCENT HOUSEHOLDS BELOW POVERTY\": 7.5, \"PERCENT AGED 16+ UNEMPLOYED\": 5.2, \"PERCENT AGED 25+ WITHOUT HIGH SCHOOL DIPLOMA\": 4.5, \"PERCENT AGED UNDER 18 OR OVER 64\": 26.2, \"PER CAPITA INCOME \": 57123, \"HARDSHIP INDEX\": 6.0}, {\"Community Area Number\": 6.0, \"COMMUNITY AREA NAME\": \"Lake View\", \"PERCENT OF HOUSING CROWDED\": 1.1, \"PERCENT HOUSEHOLDS BELOW POVERTY\": 11.4, \"PERCENT AGED 16+ UNEMPLOYED\": 4.7, \"PERCENT AGED 25+ WITHOUT HIGH SCHOOL DIPLOMA\": 2.6, \"PERCENT AGED UNDER 18 OR OVER 64\": 17.0, \"PER CAPITA INCOME \": 60058, \"HARDSHIP INDEX\": 5.0}, {\"Community Area Number\": 7.0, \"COMMUNITY AREA NAME\": \"Lincoln Park\", \"PERCENT OF HOUSING CROWDED\": 0.8, \"PERCENT HOUSEHOLDS BELOW POVERTY\": 12.3, \"PERCENT AGED 16+ UNEMPLOYED\": 5.1, \"PERCENT AGED 25+ WITHOUT HIGH SCHOOL DIPLOMA\": 3.6, \"PERCENT AGED UNDER 18 OR OVER 64\": 21.5, \"PER CAPITA INCOME \": 71551, \"HARDSHIP INDEX\": 2.0}, {\"Community Area Number\": 8.0, \"COMMUNITY AREA NAME\": \"Near North Side\", \"PERCENT OF HOUSING CROWDED\": 1.9, \"PERCENT HOUSEHOLDS BELOW POVERTY\": 12.9, \"PERCENT AGED 16+ UNEMPLOYED\": 7.0, \"PERCENT AGED 25+ WITHOUT HIGH SCHOOL DIPLOMA\": 2.5, \"PERCENT AGED UNDER 18 OR OVER 64\": 22.6, \"PER CAPITA INCOME \": 88669, \"HARDSHIP INDEX\": 1.0}, {\"Community Area Number\": 9.0, \"COMMUNITY AREA NAME\": \"Edison Park\", \"PERCENT OF HOUSING CROWDED\": 1.1, \"PERCENT HOUSEHOLDS BELOW POVERTY\": 3.3, \"PERCENT AGED 16+ UNEMPLOYED\": 6.5, \"PERCENT AGED 25+ WITHOUT HIGH SCHOOL DIPLOMA\": 7.4, \"PERCENT AGED UNDER 18 OR OVER 64\": 35.3, \"PER CAPITA INCOME \": 40959, \"HARDSHIP INDEX\": 8.0}, {\"Community Area Number\": 10.0, \"COMMUNITY AREA NAME\": \"Norwood Park\", \"PERCENT OF HOUSING CROWDED\": 2.0, \"PERCENT HOUSEHOLDS BELOW POVERTY\": 5.4, \"PERCENT AGED 16+ UNEMPLOYED\": 9.0, \"PERCENT AGED 25+ WITHOUT HIGH SCHOOL DIPLOMA\": 11.5, \"PERCENT AGED UNDER 18 OR OVER 64\": 39.5, \"PER CAPITA INCOME \": 32875, \"HARDSHIP INDEX\": 21.0}, {\"Community Area Number\": 11.0, \"COMMUNITY AREA NAME\": \"Jefferson Park\", \"PERCENT OF HOUSING CROWDED\": 2.7, \"PERCENT HOUSEHOLDS BELOW POVERTY\": 8.6, \"PERCENT AGED 16+ UNEMPLOYED\": 12.4, \"PERCENT AGED 25+ WITHOUT HIGH SCHOOL DIPLOMA\": 13.4, \"PERCENT AGED UNDER 18 OR OVER 64\": 35.5, \"PER CAPITA INCOME \": 27751, \"HARDSHIP INDEX\": 25.0}, {\"Community Area Number\": 12.0, \"COMMUNITY AREA NAME\": \"Forest Glen\", \"PERCENT OF HOUSING CROWDED\": 1.1, \"PERCENT HOUSEHOLDS BELOW POVERTY\": 7.5, \"PERCENT AGED 16+ UNEMPLOYED\": 6.8, \"PERCENT AGED 25+ WITHOUT HIGH SCHOOL DIPLOMA\": 4.9, \"PERCENT AGED UNDER 18 OR OVER 64\": 40.5, \"PER CAPITA INCOME \": 44164, \"HARDSHIP INDEX\": 11.0}, {\"Community Area Number\": 13.0, \"COMMUNITY AREA NAME\": \"North Park\", \"PERCENT OF HOUSING CROWDED\": 3.9, \"PERCENT HOUSEHOLDS BELOW POVERTY\": 13.2, \"PERCENT AGED 16+ UNEMPLOYED\": 9.9, \"PERCENT AGED 25+ WITHOUT HIGH SCHOOL DIPLOMA\": 14.4, \"PERCENT AGED UNDER 18 OR OVER 64\": 39.0, \"PER CAPITA INCOME \": 26576, \"HARDSHIP INDEX\": 33.0}, {\"Community Area Number\": 14.0, \"COMMUNITY AREA NAME\": \"Albany Park\", \"PERCENT OF HOUSING CROWDED\": 11.3, \"PERCENT HOUSEHOLDS BELOW POVERTY\": 19.2, \"PERCENT AGED 16+ UNEMPLOYED\": 10.0, \"PERCENT AGED 25+ WITHOUT HIGH SCHOOL DIPLOMA\": 32.9, \"PERCENT AGED UNDER 18 OR OVER 64\": 32.0, \"PER CAPITA INCOME \": 21323, \"HARDSHIP INDEX\": 53.0}, {\"Community Area Number\": 15.0, \"COMMUNITY AREA NAME\": \"Portage Park\", \"PERCENT OF HOUSING CROWDED\": 4.1, \"PERCENT HOUSEHOLDS BELOW POVERTY\": 11.6, \"PERCENT AGED 16+ UNEMPLOYED\": 12.6, \"PERCENT AGED 25+ WITHOUT HIGH SCHOOL DIPLOMA\": 19.3, \"PERCENT AGED UNDER 18 OR OVER 64\": 34.0, \"PER CAPITA INCOME \": 24336, \"HARDSHIP INDEX\": 35.0}, {\"Community Area Number\": 16.0, \"COMMUNITY AREA NAME\": \"Irving Park\", \"PERCENT OF HOUSING CROWDED\": 6.3, \"PERCENT HOUSEHOLDS BELOW POVERTY\": 13.1, \"PERCENT AGED 16+ UNEMPLOYED\": 10.0, \"PERCENT AGED 25+ WITHOUT HIGH SCHOOL DIPLOMA\": 22.4, \"PERCENT AGED UNDER 18 OR OVER 64\": 31.6, \"PER CAPITA INCOME \": 27249, \"HARDSHIP INDEX\": 34.0}, {\"Community Area Number\": 17.0, \"COMMUNITY AREA NAME\": \"Dunning\", \"PERCENT OF HOUSING CROWDED\": 5.2, \"PERCENT HOUSEHOLDS BELOW POVERTY\": 10.6, \"PERCENT AGED 16+ UNEMPLOYED\": 10.0, \"PERCENT AGED 25+ WITHOUT HIGH SCHOOL DIPLOMA\": 16.2, \"PERCENT AGED UNDER 18 OR OVER 64\": 33.6, \"PER CAPITA INCOME \": 26282, \"HARDSHIP INDEX\": 28.0}, {\"Community Area Number\": 18.0, \"COMMUNITY AREA NAME\": \"Montclaire\", \"PERCENT OF HOUSING CROWDED\": 8.1, \"PERCENT HOUSEHOLDS BELOW POVERTY\": 15.3, \"PERCENT AGED 16+ UNEMPLOYED\": 13.8, \"PERCENT AGED 25+ WITHOUT HIGH SCHOOL DIPLOMA\": 23.5, \"PERCENT AGED UNDER 18 OR OVER 64\": 38.6, \"PER CAPITA INCOME \": 22014, \"HARDSHIP INDEX\": 50.0}, {\"Community Area Number\": 19.0, \"COMMUNITY AREA NAME\": \"Belmont Cragin\", \"PERCENT OF HOUSING CROWDED\": 10.8, \"PERCENT HOUSEHOLDS BELOW POVERTY\": 18.7, \"PERCENT AGED 16+ UNEMPLOYED\": 14.6, \"PERCENT AGED 25+ WITHOUT HIGH SCHOOL DIPLOMA\": 37.3, \"PERCENT AGED UNDER 18 OR OVER 64\": 37.3, \"PER CAPITA INCOME \": 15461, \"HARDSHIP INDEX\": 70.0}, {\"Community Area Number\": 20.0, \"COMMUNITY AREA NAME\": \"Hermosa\", \"PERCENT OF HOUSING CROWDED\": 6.9, \"PERCENT HOUSEHOLDS BELOW POVERTY\": 20.5, \"PERCENT AGED 16+ UNEMPLOYED\": 13.1, \"PERCENT AGED 25+ WITHOUT HIGH SCHOOL DIPLOMA\": 41.6, \"PERCENT AGED UNDER 18 OR OVER 64\": 36.4, \"PER CAPITA INCOME \": 15089, \"HARDSHIP INDEX\": 71.0}, {\"Community Area Number\": 21.0, \"COMMUNITY AREA NAME\": \"Avondale\", \"PERCENT OF HOUSING CROWDED\": 6.0, \"PERCENT HOUSEHOLDS BELOW POVERTY\": 15.3, \"PERCENT AGED 16+ UNEMPLOYED\": 9.2, \"PERCENT AGED 25+ WITHOUT HIGH SCHOOL DIPLOMA\": 24.7, \"PERCENT AGED UNDER 18 OR OVER 64\": 31.0, \"PER CAPITA INCOME \": 20039, \"HARDSHIP INDEX\": 42.0}, {\"Community Area Number\": 22.0, \"COMMUNITY AREA NAME\": \"Logan Square\", \"PERCENT OF HOUSING CROWDED\": 3.2, \"PERCENT HOUSEHOLDS BELOW POVERTY\": 16.8, \"PERCENT AGED 16+ UNEMPLOYED\": 8.2, \"PERCENT AGED 25+ WITHOUT HIGH SCHOOL DIPLOMA\": 14.8, \"PERCENT AGED UNDER 18 OR OVER 64\": 26.2, \"PER CAPITA INCOME \": 31908, \"HARDSHIP INDEX\": 23.0}, {\"Community Area Number\": 23.0, \"COMMUNITY AREA NAME\": \"Humboldt park\", \"PERCENT OF HOUSING CROWDED\": 14.8, \"PERCENT HOUSEHOLDS BELOW POVERTY\": 33.9, \"PERCENT AGED 16+ UNEMPLOYED\": 17.3, \"PERCENT AGED 25+ WITHOUT HIGH SCHOOL DIPLOMA\": 35.4, \"PERCENT AGED UNDER 18 OR OVER 64\": 38.0, \"PER CAPITA INCOME \": 13781, \"HARDSHIP INDEX\": 85.0}, {\"Community Area Number\": 24.0, \"COMMUNITY AREA NAME\": \"West Town\", \"PERCENT OF HOUSING CROWDED\": 2.3, \"PERCENT HOUSEHOLDS BELOW POVERTY\": 14.7, \"PERCENT AGED 16+ UNEMPLOYED\": 6.6, \"PERCENT AGED 25+ WITHOUT HIGH SCHOOL DIPLOMA\": 12.9, \"PERCENT AGED UNDER 18 OR OVER 64\": 21.7, \"PER CAPITA INCOME \": 43198, \"HARDSHIP INDEX\": 10.0}, {\"Community Area Number\": 25.0, \"COMMUNITY AREA NAME\": \"Austin\", \"PERCENT OF HOUSING CROWDED\": 6.3, \"PERCENT HOUSEHOLDS BELOW POVERTY\": 28.6, \"PERCENT AGED 16+ UNEMPLOYED\": 22.6, \"PERCENT AGED 25+ WITHOUT HIGH SCHOOL DIPLOMA\": 24.4, \"PERCENT AGED UNDER 18 OR OVER 64\": 37.9, \"PER CAPITA INCOME \": 15957, \"HARDSHIP INDEX\": 73.0}, {\"Community Area Number\": 26.0, \"COMMUNITY AREA NAME\": \"West Garfield Park\", \"PERCENT OF HOUSING CROWDED\": 9.4, \"PERCENT HOUSEHOLDS BELOW POVERTY\": 41.7, \"PERCENT AGED 16+ UNEMPLOYED\": 25.8, \"PERCENT AGED 25+ WITHOUT HIGH SCHOOL DIPLOMA\": 24.5, \"PERCENT AGED UNDER 18 OR OVER 64\": 43.6, \"PER CAPITA INCOME \": 10934, \"HARDSHIP INDEX\": 92.0}, {\"Community Area Number\": 27.0, \"COMMUNITY AREA NAME\": \"East Garfield Park\", \"PERCENT OF HOUSING CROWDED\": 8.2, \"PERCENT HOUSEHOLDS BELOW POVERTY\": 42.4, \"PERCENT AGED 16+ UNEMPLOYED\": 19.6, \"PERCENT AGED 25+ WITHOUT HIGH SCHOOL DIPLOMA\": 21.3, \"PERCENT AGED UNDER 18 OR OVER 64\": 43.2, \"PER CAPITA INCOME \": 12961, \"HARDSHIP INDEX\": 83.0}, {\"Community Area Number\": 28.0, \"COMMUNITY AREA NAME\": \"Near West Side\", \"PERCENT OF HOUSING CROWDED\": 3.8, \"PERCENT HOUSEHOLDS BELOW POVERTY\": 20.6, \"PERCENT AGED 16+ UNEMPLOYED\": 10.7, \"PERCENT AGED 25+ WITHOUT HIGH SCHOOL DIPLOMA\": 9.6, \"PERCENT AGED UNDER 18 OR OVER 64\": 22.2, \"PER CAPITA INCOME \": 44689, \"HARDSHIP INDEX\": 15.0}, {\"Community Area Number\": 29.0, \"COMMUNITY AREA NAME\": \"North Lawndale\", \"PERCENT OF HOUSING CROWDED\": 7.4, \"PERCENT HOUSEHOLDS BELOW POVERTY\": 43.1, \"PERCENT AGED 16+ UNEMPLOYED\": 21.2, \"PERCENT AGED 25+ WITHOUT HIGH SCHOOL DIPLOMA\": 27.6, \"PERCENT AGED UNDER 18 OR OVER 64\": 42.7, \"PER CAPITA INCOME \": 12034, \"HARDSHIP INDEX\": 87.0}, {\"Community Area Number\": 30.0, \"COMMUNITY AREA NAME\": \"South Lawndale\", \"PERCENT OF HOUSING CROWDED\": 15.2, \"PERCENT HOUSEHOLDS BELOW POVERTY\": 30.7, \"PERCENT AGED 16+ UNEMPLOYED\": 15.8, \"PERCENT AGED 25+ WITHOUT HIGH SCHOOL DIPLOMA\": 54.8, \"PERCENT AGED UNDER 18 OR OVER 64\": 33.8, \"PER CAPITA INCOME \": 10402, \"HARDSHIP INDEX\": 96.0}, {\"Community Area Number\": 31.0, \"COMMUNITY AREA NAME\": \"Lower West Side\", \"PERCENT OF HOUSING CROWDED\": 9.6, \"PERCENT HOUSEHOLDS BELOW POVERTY\": 25.8, \"PERCENT AGED 16+ UNEMPLOYED\": 15.8, \"PERCENT AGED 25+ WITHOUT HIGH SCHOOL DIPLOMA\": 40.7, \"PERCENT AGED UNDER 18 OR OVER 64\": 32.6, \"PER CAPITA INCOME \": 16444, \"HARDSHIP INDEX\": 76.0}, {\"Community Area Number\": 32.0, \"COMMUNITY AREA NAME\": \"Loop\", \"PERCENT OF HOUSING CROWDED\": 1.5, \"PERCENT HOUSEHOLDS BELOW POVERTY\": 14.7, \"PERCENT AGED 16+ UNEMPLOYED\": 5.7, \"PERCENT AGED 25+ WITHOUT HIGH SCHOOL DIPLOMA\": 3.1, \"PERCENT AGED UNDER 18 OR OVER 64\": 13.5, \"PER CAPITA INCOME \": 65526, \"HARDSHIP INDEX\": 3.0}, {\"Community Area Number\": 33.0, \"COMMUNITY AREA NAME\": \"Near South Side\", \"PERCENT OF HOUSING CROWDED\": 1.3, \"PERCENT HOUSEHOLDS BELOW POVERTY\": 13.8, \"PERCENT AGED 16+ UNEMPLOYED\": 4.9, \"PERCENT AGED 25+ WITHOUT HIGH SCHOOL DIPLOMA\": 7.4, \"PERCENT AGED UNDER 18 OR OVER 64\": 21.8, \"PER CAPITA INCOME \": 59077, \"HARDSHIP INDEX\": 7.0}, {\"Community Area Number\": 34.0, \"COMMUNITY AREA NAME\": \"Armour Square\", \"PERCENT OF HOUSING CROWDED\": 5.7, \"PERCENT HOUSEHOLDS BELOW POVERTY\": 40.1, \"PERCENT AGED 16+ UNEMPLOYED\": 16.7, \"PERCENT AGED 25+ WITHOUT HIGH SCHOOL DIPLOMA\": 34.5, \"PERCENT AGED UNDER 18 OR OVER 64\": 38.3, \"PER CAPITA INCOME \": 16148, \"HARDSHIP INDEX\": 82.0}, {\"Community Area Number\": 35.0, \"COMMUNITY AREA NAME\": \"Douglas\", \"PERCENT OF HOUSING CROWDED\": 1.8, \"PERCENT HOUSEHOLDS BELOW POVERTY\": 29.6, \"PERCENT AGED 16+ UNEMPLOYED\": 18.2, \"PERCENT AGED 25+ WITHOUT HIGH SCHOOL DIPLOMA\": 14.3, \"PERCENT AGED UNDER 18 OR OVER 64\": 30.7, \"PER CAPITA INCOME \": 23791, \"HARDSHIP INDEX\": 47.0}, {\"Community Area Number\": 36.0, \"COMMUNITY AREA NAME\": \"Oakland\", \"PERCENT OF HOUSING CROWDED\": 1.3, \"PERCENT HOUSEHOLDS BELOW POVERTY\": 39.7, \"PERCENT AGED 16+ UNEMPLOYED\": 28.7, \"PERCENT AGED 25+ WITHOUT HIGH SCHOOL DIPLOMA\": 18.4, \"PERCENT AGED UNDER 18 OR OVER 64\": 40.4, \"PER CAPITA INCOME \": 19252, \"HARDSHIP INDEX\": 78.0}, {\"Community Area Number\": 37.0, \"COMMUNITY AREA NAME\": \"Fuller Park\", \"PERCENT OF HOUSING CROWDED\": 3.2, \"PERCENT HOUSEHOLDS BELOW POVERTY\": 51.2, \"PERCENT AGED 16+ UNEMPLOYED\": 33.9, \"PERCENT AGED 25+ WITHOUT HIGH SCHOOL DIPLOMA\": 26.6, \"PERCENT AGED UNDER 18 OR OVER 64\": 44.9, \"PER CAPITA INCOME \": 10432, \"HARDSHIP INDEX\": 97.0}, {\"Community Area Number\": 38.0, \"COMMUNITY AREA NAME\": \"Grand Boulevard\", \"PERCENT OF HOUSING CROWDED\": 3.3, \"PERCENT HOUSEHOLDS BELOW POVERTY\": 29.3, \"PERCENT AGED 16+ UNEMPLOYED\": 24.3, \"PERCENT AGED 25+ WITHOUT HIGH SCHOOL DIPLOMA\": 15.9, \"PERCENT AGED UNDER 18 OR OVER 64\": 39.5, \"PER CAPITA INCOME \": 23472, \"HARDSHIP INDEX\": 57.0}, {\"Community Area Number\": 39.0, \"COMMUNITY AREA NAME\": \"Kenwood\", \"PERCENT OF HOUSING CROWDED\": 2.4, \"PERCENT HOUSEHOLDS BELOW POVERTY\": 21.7, \"PERCENT AGED 16+ UNEMPLOYED\": 15.7, \"PERCENT AGED 25+ WITHOUT HIGH SCHOOL DIPLOMA\": 11.3, \"PERCENT AGED UNDER 18 OR OVER 64\": 35.4, \"PER CAPITA INCOME \": 35911, \"HARDSHIP INDEX\": 26.0}, {\"Community Area Number\": 40.0, \"COMMUNITY AREA NAME\": \"Washington Park\", \"PERCENT OF HOUSING CROWDED\": 5.6, \"PERCENT HOUSEHOLDS BELOW POVERTY\": 42.1, \"PERCENT AGED 16+ UNEMPLOYED\": 28.6, \"PERCENT AGED 25+ WITHOUT HIGH SCHOOL DIPLOMA\": 25.4, \"PERCENT AGED UNDER 18 OR OVER 64\": 42.8, \"PER CAPITA INCOME \": 13785, \"HARDSHIP INDEX\": 88.0}, {\"Community Area Number\": 41.0, \"COMMUNITY AREA NAME\": \"Hyde Park\", \"PERCENT OF HOUSING CROWDED\": 1.5, \"PERCENT HOUSEHOLDS BELOW POVERTY\": 18.4, \"PERCENT AGED 16+ UNEMPLOYED\": 8.4, \"PERCENT AGED 25+ WITHOUT HIGH SCHOOL DIPLOMA\": 4.3, \"PERCENT AGED UNDER 18 OR OVER 64\": 26.2, \"PER CAPITA INCOME \": 39056, \"HARDSHIP INDEX\": 14.0}, {\"Community Area Number\": 42.0, \"COMMUNITY AREA NAME\": \"Woodlawn\", \"PERCENT OF HOUSING CROWDED\": 2.9, \"PERCENT HOUSEHOLDS BELOW POVERTY\": 30.7, \"PERCENT AGED 16+ UNEMPLOYED\": 23.4, \"PERCENT AGED 25+ WITHOUT HIGH SCHOOL DIPLOMA\": 16.5, \"PERCENT AGED UNDER 18 OR OVER 64\": 36.1, \"PER CAPITA INCOME \": 18672, \"HARDSHIP INDEX\": 58.0}, {\"Community Area Number\": 43.0, \"COMMUNITY AREA NAME\": \"South Shore\", \"PERCENT OF HOUSING CROWDED\": 2.8, \"PERCENT HOUSEHOLDS BELOW POVERTY\": 31.1, \"PERCENT AGED 16+ UNEMPLOYED\": 20.0, \"PERCENT AGED 25+ WITHOUT HIGH SCHOOL DIPLOMA\": 14.0, \"PERCENT AGED UNDER 18 OR OVER 64\": 35.7, \"PER CAPITA INCOME \": 19398, \"HARDSHIP INDEX\": 55.0}, {\"Community Area Number\": 44.0, \"COMMUNITY AREA NAME\": \"Chatham\", \"PERCENT OF HOUSING CROWDED\": 3.3, \"PERCENT HOUSEHOLDS BELOW POVERTY\": 27.8, \"PERCENT AGED 16+ UNEMPLOYED\": 24.0, \"PERCENT AGED 25+ WITHOUT HIGH SCHOOL DIPLOMA\": 14.5, \"PERCENT AGED UNDER 18 OR OVER 64\": 40.3, \"PER CAPITA INCOME \": 18881, \"HARDSHIP INDEX\": 60.0}, {\"Community Area Number\": 45.0, \"COMMUNITY AREA NAME\": \"Avalon Park\", \"PERCENT OF HOUSING CROWDED\": 1.4, \"PERCENT HOUSEHOLDS BELOW POVERTY\": 17.2, \"PERCENT AGED 16+ UNEMPLOYED\": 21.1, \"PERCENT AGED 25+ WITHOUT HIGH SCHOOL DIPLOMA\": 10.6, \"PERCENT AGED UNDER 18 OR OVER 64\": 39.3, \"PER CAPITA INCOME \": 24454, \"HARDSHIP INDEX\": 41.0}, {\"Community Area Number\": 46.0, \"COMMUNITY AREA NAME\": \"South Chicago\", \"PERCENT OF HOUSING CROWDED\": 4.7, \"PERCENT HOUSEHOLDS BELOW POVERTY\": 29.8, \"PERCENT AGED 16+ UNEMPLOYED\": 19.7, \"PERCENT AGED 25+ WITHOUT HIGH SCHOOL DIPLOMA\": 26.6, \"PERCENT AGED UNDER 18 OR OVER 64\": 41.1, \"PER CAPITA INCOME \": 16579, \"HARDSHIP INDEX\": 75.0}, {\"Community Area Number\": 47.0, \"COMMUNITY AREA NAME\": \"Burnside\", \"PERCENT OF HOUSING CROWDED\": 6.8, \"PERCENT HOUSEHOLDS BELOW POVERTY\": 33.0, \"PERCENT AGED 16+ UNEMPLOYED\": 18.6, \"PERCENT AGED 25+ WITHOUT HIGH SCHOOL DIPLOMA\": 19.3, \"PERCENT AGED UNDER 18 OR OVER 64\": 42.7, \"PER CAPITA INCOME \": 12515, \"HARDSHIP INDEX\": 79.0}, {\"Community Area Number\": 48.0, \"COMMUNITY AREA NAME\": \"Calumet Heights\", \"PERCENT OF HOUSING CROWDED\": 2.1, \"PERCENT HOUSEHOLDS BELOW POVERTY\": 11.5, \"PERCENT AGED 16+ UNEMPLOYED\": 20.0, \"PERCENT AGED 25+ WITHOUT HIGH SCHOOL DIPLOMA\": 11.0, \"PERCENT AGED UNDER 18 OR OVER 64\": 44.0, \"PER CAPITA INCOME \": 28887, \"HARDSHIP INDEX\": 38.0}, {\"Community Area Number\": 49.0, \"COMMUNITY AREA NAME\": \"Roseland\", \"PERCENT OF HOUSING CROWDED\": 2.5, \"PERCENT HOUSEHOLDS BELOW POVERTY\": 19.8, \"PERCENT AGED 16+ UNEMPLOYED\": 20.3, \"PERCENT AGED 25+ WITHOUT HIGH SCHOOL DIPLOMA\": 16.9, \"PERCENT AGED UNDER 18 OR OVER 64\": 41.2, \"PER CAPITA INCOME \": 17949, \"HARDSHIP INDEX\": 52.0}, {\"Community Area Number\": 50.0, \"COMMUNITY AREA NAME\": \"Pullman\", \"PERCENT OF HOUSING CROWDED\": 1.5, \"PERCENT HOUSEHOLDS BELOW POVERTY\": 21.6, \"PERCENT AGED 16+ UNEMPLOYED\": 22.8, \"PERCENT AGED 25+ WITHOUT HIGH SCHOOL DIPLOMA\": 13.1, \"PERCENT AGED UNDER 18 OR OVER 64\": 38.6, \"PER CAPITA INCOME \": 20588, \"HARDSHIP INDEX\": 51.0}, {\"Community Area Number\": 51.0, \"COMMUNITY AREA NAME\": \"South Deering\", \"PERCENT OF HOUSING CROWDED\": 4.0, \"PERCENT HOUSEHOLDS BELOW POVERTY\": 29.2, \"PERCENT AGED 16+ UNEMPLOYED\": 16.3, \"PERCENT AGED 25+ WITHOUT HIGH SCHOOL DIPLOMA\": 21.0, \"PERCENT AGED UNDER 18 OR OVER 64\": 39.5, \"PER CAPITA INCOME \": 14685, \"HARDSHIP INDEX\": 65.0}, {\"Community Area Number\": 52.0, \"COMMUNITY AREA NAME\": \"East Side\", \"PERCENT OF HOUSING CROWDED\": 6.8, \"PERCENT HOUSEHOLDS BELOW POVERTY\": 19.2, \"PERCENT AGED 16+ UNEMPLOYED\": 12.1, \"PERCENT AGED 25+ WITHOUT HIGH SCHOOL DIPLOMA\": 31.9, \"PERCENT AGED UNDER 18 OR OVER 64\": 42.8, \"PER CAPITA INCOME \": 17104, \"HARDSHIP INDEX\": 64.0}, {\"Community Area Number\": 53.0, \"COMMUNITY AREA NAME\": \"West Pullman\", \"PERCENT OF HOUSING CROWDED\": 3.3, \"PERCENT HOUSEHOLDS BELOW POVERTY\": 25.9, \"PERCENT AGED 16+ UNEMPLOYED\": 19.4, \"PERCENT AGED 25+ WITHOUT HIGH SCHOOL DIPLOMA\": 20.5, \"PERCENT AGED UNDER 18 OR OVER 64\": 42.1, \"PER CAPITA INCOME \": 16563, \"HARDSHIP INDEX\": 62.0}, {\"Community Area Number\": 54.0, \"COMMUNITY AREA NAME\": \"Riverdale\", \"PERCENT OF HOUSING CROWDED\": 5.8, \"PERCENT HOUSEHOLDS BELOW POVERTY\": 56.5, \"PERCENT AGED 16+ UNEMPLOYED\": 34.6, \"PERCENT AGED 25+ WITHOUT HIGH SCHOOL DIPLOMA\": 27.5, \"PERCENT AGED UNDER 18 OR OVER 64\": 51.5, \"PER CAPITA INCOME \": 8201, \"HARDSHIP INDEX\": 98.0}, {\"Community Area Number\": 55.0, \"COMMUNITY AREA NAME\": \"Hegewisch\", \"PERCENT OF HOUSING CROWDED\": 3.3, \"PERCENT HOUSEHOLDS BELOW POVERTY\": 17.1, \"PERCENT AGED 16+ UNEMPLOYED\": 9.6, \"PERCENT AGED 25+ WITHOUT HIGH SCHOOL DIPLOMA\": 19.2, \"PERCENT AGED UNDER 18 OR OVER 64\": 42.9, \"PER CAPITA INCOME \": 22677, \"HARDSHIP INDEX\": 44.0}, {\"Community Area Number\": 56.0, \"COMMUNITY AREA NAME\": \"Garfield Ridge\", \"PERCENT OF HOUSING CROWDED\": 2.6, \"PERCENT HOUSEHOLDS BELOW POVERTY\": 8.8, \"PERCENT AGED 16+ UNEMPLOYED\": 11.3, \"PERCENT AGED 25+ WITHOUT HIGH SCHOOL DIPLOMA\": 19.3, \"PERCENT AGED UNDER 18 OR OVER 64\": 38.1, \"PER CAPITA INCOME \": 26353, \"HARDSHIP INDEX\": 32.0}, {\"Community Area Number\": 57.0, \"COMMUNITY AREA NAME\": \"Archer Heights\", \"PERCENT OF HOUSING CROWDED\": 8.5, \"PERCENT HOUSEHOLDS BELOW POVERTY\": 14.1, \"PERCENT AGED 16+ UNEMPLOYED\": 16.5, \"PERCENT AGED 25+ WITHOUT HIGH SCHOOL DIPLOMA\": 35.9, \"PERCENT AGED UNDER 18 OR OVER 64\": 39.2, \"PER CAPITA INCOME \": 16134, \"HARDSHIP INDEX\": 67.0}, {\"Community Area Number\": 58.0, \"COMMUNITY AREA NAME\": \"Brighton Park\", \"PERCENT OF HOUSING CROWDED\": 14.4, \"PERCENT HOUSEHOLDS BELOW POVERTY\": 23.6, \"PERCENT AGED 16+ UNEMPLOYED\": 13.9, \"PERCENT AGED 25+ WITHOUT HIGH SCHOOL DIPLOMA\": 45.1, \"PERCENT AGED UNDER 18 OR OVER 64\": 39.3, \"PER CAPITA INCOME \": 13089, \"HARDSHIP INDEX\": 84.0}, {\"Community Area Number\": 59.0, \"COMMUNITY AREA NAME\": \"McKinley Park\", \"PERCENT OF HOUSING CROWDED\": 7.2, \"PERCENT HOUSEHOLDS BELOW POVERTY\": 18.7, \"PERCENT AGED 16+ UNEMPLOYED\": 13.4, \"PERCENT AGED 25+ WITHOUT HIGH SCHOOL DIPLOMA\": 32.9, \"PERCENT AGED UNDER 18 OR OVER 64\": 35.6, \"PER CAPITA INCOME \": 16954, \"HARDSHIP INDEX\": 61.0}, {\"Community Area Number\": 60.0, \"COMMUNITY AREA NAME\": \"Bridgeport\", \"PERCENT OF HOUSING CROWDED\": 4.5, \"PERCENT HOUSEHOLDS BELOW POVERTY\": 18.9, \"PERCENT AGED 16+ UNEMPLOYED\": 13.7, \"PERCENT AGED 25+ WITHOUT HIGH SCHOOL DIPLOMA\": 22.2, \"PERCENT AGED UNDER 18 OR OVER 64\": 31.3, \"PER CAPITA INCOME \": 22694, \"HARDSHIP INDEX\": 43.0}, {\"Community Area Number\": 61.0, \"COMMUNITY AREA NAME\": \"New City\", \"PERCENT OF HOUSING CROWDED\": 11.9, \"PERCENT HOUSEHOLDS BELOW POVERTY\": 29.0, \"PERCENT AGED 16+ UNEMPLOYED\": 23.0, \"PERCENT AGED 25+ WITHOUT HIGH SCHOOL DIPLOMA\": 41.5, \"PERCENT AGED UNDER 18 OR OVER 64\": 38.9, \"PER CAPITA INCOME \": 12765, \"HARDSHIP INDEX\": 91.0}, {\"Community Area Number\": 62.0, \"COMMUNITY AREA NAME\": \"West Elsdon\", \"PERCENT OF HOUSING CROWDED\": 11.1, \"PERCENT HOUSEHOLDS BELOW POVERTY\": 15.6, \"PERCENT AGED 16+ UNEMPLOYED\": 16.7, \"PERCENT AGED 25+ WITHOUT HIGH SCHOOL DIPLOMA\": 37.0, \"PERCENT AGED UNDER 18 OR OVER 64\": 37.7, \"PER CAPITA INCOME \": 15754, \"HARDSHIP INDEX\": 69.0}, {\"Community Area Number\": 63.0, \"COMMUNITY AREA NAME\": \"Gage Park\", \"PERCENT OF HOUSING CROWDED\": 15.8, \"PERCENT HOUSEHOLDS BELOW POVERTY\": 23.4, \"PERCENT AGED 16+ UNEMPLOYED\": 18.2, \"PERCENT AGED 25+ WITHOUT HIGH SCHOOL DIPLOMA\": 51.5, \"PERCENT AGED UNDER 18 OR OVER 64\": 38.8, \"PER CAPITA INCOME \": 12171, \"HARDSHIP INDEX\": 93.0}, {\"Community Area Number\": 64.0, \"COMMUNITY AREA NAME\": \"Clearing\", \"PERCENT OF HOUSING CROWDED\": 2.7, \"PERCENT HOUSEHOLDS BELOW POVERTY\": 8.9, \"PERCENT AGED 16+ UNEMPLOYED\": 9.5, \"PERCENT AGED 25+ WITHOUT HIGH SCHOOL DIPLOMA\": 18.8, \"PERCENT AGED UNDER 18 OR OVER 64\": 37.6, \"PER CAPITA INCOME \": 25113, \"HARDSHIP INDEX\": 29.0}, {\"Community Area Number\": 65.0, \"COMMUNITY AREA NAME\": \"West Lawn\", \"PERCENT OF HOUSING CROWDED\": 5.8, \"PERCENT HOUSEHOLDS BELOW POVERTY\": 14.9, \"PERCENT AGED 16+ UNEMPLOYED\": 9.6, \"PERCENT AGED 25+ WITHOUT HIGH SCHOOL DIPLOMA\": 33.6, \"PERCENT AGED UNDER 18 OR OVER 64\": 39.6, \"PER CAPITA INCOME \": 16907, \"HARDSHIP INDEX\": 56.0}, {\"Community Area Number\": 66.0, \"COMMUNITY AREA NAME\": \"Chicago Lawn\", \"PERCENT OF HOUSING CROWDED\": 7.6, \"PERCENT HOUSEHOLDS BELOW POVERTY\": 27.9, \"PERCENT AGED 16+ UNEMPLOYED\": 17.1, \"PERCENT AGED 25+ WITHOUT HIGH SCHOOL DIPLOMA\": 31.2, \"PERCENT AGED UNDER 18 OR OVER 64\": 40.6, \"PER CAPITA INCOME \": 13231, \"HARDSHIP INDEX\": 80.0}, {\"Community Area Number\": 67.0, \"COMMUNITY AREA NAME\": \"West Englewood\", \"PERCENT OF HOUSING CROWDED\": 4.8, \"PERCENT HOUSEHOLDS BELOW POVERTY\": 34.4, \"PERCENT AGED 16+ UNEMPLOYED\": 35.9, \"PERCENT AGED 25+ WITHOUT HIGH SCHOOL DIPLOMA\": 26.3, \"PERCENT AGED UNDER 18 OR OVER 64\": 40.7, \"PER CAPITA INCOME \": 11317, \"HARDSHIP INDEX\": 89.0}, {\"Community Area Number\": 68.0, \"COMMUNITY AREA NAME\": \"Englewood\", \"PERCENT OF HOUSING CROWDED\": 3.8, \"PERCENT HOUSEHOLDS BELOW POVERTY\": 46.6, \"PERCENT AGED 16+ UNEMPLOYED\": 28.0, \"PERCENT AGED 25+ WITHOUT HIGH SCHOOL DIPLOMA\": 28.5, \"PERCENT AGED UNDER 18 OR OVER 64\": 42.5, \"PER CAPITA INCOME \": 11888, \"HARDSHIP INDEX\": 94.0}, {\"Community Area Number\": 69.0, \"COMMUNITY AREA NAME\": \"Greater Grand Crossing\", \"PERCENT OF HOUSING CROWDED\": 3.6, \"PERCENT HOUSEHOLDS BELOW POVERTY\": 29.6, \"PERCENT AGED 16+ UNEMPLOYED\": 23.0, \"PERCENT AGED 25+ WITHOUT HIGH SCHOOL DIPLOMA\": 16.5, \"PERCENT AGED UNDER 18 OR OVER 64\": 41.0, \"PER CAPITA INCOME \": 17285, \"HARDSHIP INDEX\": 66.0}, {\"Community Area Number\": 70.0, \"COMMUNITY AREA NAME\": \"Ashburn\", \"PERCENT OF HOUSING CROWDED\": 4.0, \"PERCENT HOUSEHOLDS BELOW POVERTY\": 10.4, \"PERCENT AGED 16+ UNEMPLOYED\": 11.7, \"PERCENT AGED 25+ WITHOUT HIGH SCHOOL DIPLOMA\": 17.7, \"PERCENT AGED UNDER 18 OR OVER 64\": 36.9, \"PER CAPITA INCOME \": 23482, \"HARDSHIP INDEX\": 37.0}, {\"Community Area Number\": 71.0, \"COMMUNITY AREA NAME\": \"Auburn Gresham\", \"PERCENT OF HOUSING CROWDED\": 4.0, \"PERCENT HOUSEHOLDS BELOW POVERTY\": 27.6, \"PERCENT AGED 16+ UNEMPLOYED\": 28.3, \"PERCENT AGED 25+ WITHOUT HIGH SCHOOL DIPLOMA\": 18.5, \"PERCENT AGED UNDER 18 OR OVER 64\": 41.9, \"PER CAPITA INCOME \": 15528, \"HARDSHIP INDEX\": 74.0}, {\"Community Area Number\": 72.0, \"COMMUNITY AREA NAME\": \"Beverly\", \"PERCENT OF HOUSING CROWDED\": 0.9, \"PERCENT HOUSEHOLDS BELOW POVERTY\": 5.1, \"PERCENT AGED 16+ UNEMPLOYED\": 8.0, \"PERCENT AGED 25+ WITHOUT HIGH SCHOOL DIPLOMA\": 3.7, \"PERCENT AGED UNDER 18 OR OVER 64\": 40.5, \"PER CAPITA INCOME \": 39523, \"HARDSHIP INDEX\": 12.0}, {\"Community Area Number\": 73.0, \"COMMUNITY AREA NAME\": \"Washington Height\", \"PERCENT OF HOUSING CROWDED\": 1.1, \"PERCENT HOUSEHOLDS BELOW POVERTY\": 16.9, \"PERCENT AGED 16+ UNEMPLOYED\": 20.8, \"PERCENT AGED 25+ WITHOUT HIGH SCHOOL DIPLOMA\": 13.7, \"PERCENT AGED UNDER 18 OR OVER 64\": 42.6, \"PER CAPITA INCOME \": 19713, \"HARDSHIP INDEX\": 48.0}, {\"Community Area Number\": 74.0, \"COMMUNITY AREA NAME\": \"Mount Greenwood\", \"PERCENT OF HOUSING CROWDED\": 1.0, \"PERCENT HOUSEHOLDS BELOW POVERTY\": 3.4, \"PERCENT AGED 16+ UNEMPLOYED\": 8.7, \"PERCENT AGED 25+ WITHOUT HIGH SCHOOL DIPLOMA\": 4.3, \"PERCENT AGED UNDER 18 OR OVER 64\": 36.8, \"PER CAPITA INCOME \": 34381, \"HARDSHIP INDEX\": 16.0}, {\"Community Area Number\": 75.0, \"COMMUNITY AREA NAME\": \"Morgan Park\", \"PERCENT OF HOUSING CROWDED\": 0.8, \"PERCENT HOUSEHOLDS BELOW POVERTY\": 13.2, \"PERCENT AGED 16+ UNEMPLOYED\": 15.0, \"PERCENT AGED 25+ WITHOUT HIGH SCHOOL DIPLOMA\": 10.8, \"PERCENT AGED UNDER 18 OR OVER 64\": 40.3, \"PER CAPITA INCOME \": 27149, \"HARDSHIP INDEX\": 30.0}, {\"Community Area Number\": 76.0, \"COMMUNITY AREA NAME\": \"O'Hare\", \"PERCENT OF HOUSING CROWDED\": 3.6, \"PERCENT HOUSEHOLDS BELOW POVERTY\": 15.4, \"PERCENT AGED 16+ UNEMPLOYED\": 7.1, \"PERCENT AGED 25+ WITHOUT HIGH SCHOOL DIPLOMA\": 10.9, \"PERCENT AGED UNDER 18 OR OVER 64\": 30.3, \"PER CAPITA INCOME \": 25828, \"HARDSHIP INDEX\": 24.0}, {\"Community Area Number\": 77.0, \"COMMUNITY AREA NAME\": \"Edgewater\", \"PERCENT OF HOUSING CROWDED\": 4.1, \"PERCENT HOUSEHOLDS BELOW POVERTY\": 18.2, \"PERCENT AGED 16+ UNEMPLOYED\": 9.2, \"PERCENT AGED 25+ WITHOUT HIGH SCHOOL DIPLOMA\": 9.7, \"PERCENT AGED UNDER 18 OR OVER 64\": 23.8, \"PER CAPITA INCOME \": 33385, \"HARDSHIP INDEX\": 19.0}, {\"Community Area Number\": null, \"COMMUNITY AREA NAME\": \"CHICAGO\", \"PERCENT OF HOUSING CROWDED\": 4.7, \"PERCENT HOUSEHOLDS BELOW POVERTY\": 19.7, \"PERCENT AGED 16+ UNEMPLOYED\": 12.9, \"PERCENT AGED 25+ WITHOUT HIGH SCHOOL DIPLOMA\": 19.5, \"PERCENT AGED UNDER 18 OR OVER 64\": 33.5, \"PER CAPITA INCOME \": 28202, \"HARDSHIP INDEX\": null}]}}, {\"mode\": \"vega-lite\"});\n",
       "</script>"
      ],
      "text/plain": [
       "alt.VConcatChart(...)"
      ]
     },
     "execution_count": 7,
     "metadata": {},
     "output_type": "execute_result"
    }
   ],
   "source": [
    "brush = alt.selection(type = \"interval\")\n",
    "\n",
    "points = alt.Chart(df). mark_point().encode(\n",
    "    x=\"COMMUNITY AREA NAME\",\n",
    "    y= \"PER CAPITA INCOME \",\n",
    "    color = alt.condition(brush, \"PER CAPITA INCOME \", alt.value(\"lightgrey\"))\n",
    ").add_selection(\n",
    "    brush\n",
    ")\n",
    "\n",
    "bars = alt.Chart(df).mark_bar().encode(\n",
    "    y = \"HARDSHIP INDEX\",\n",
    "    color = \"COMMUNITY AREA NAME\",\n",
    "    x = \"COMMUNITY AREA NAME\"\n",
    ").transform_filter(\n",
    "    brush\n",
    ")\n",
    "\n",
    "\n",
    "dashboard = points & bars\n",
    "dashboard"
   ]
  },
  {
   "cell_type": "code",
   "execution_count": 8,
   "id": "ba2f45a1",
   "metadata": {
    "pycharm": {
     "name": "#%%\n"
    }
   },
   "outputs": [],
   "source": [
    "dashboard.save(myJekyllDir+'final_interactive_chart.json')"
   ]
  },
  {
   "cell_type": "markdown",
   "id": "23895539",
   "metadata": {
    "pycharm": {
     "name": "#%% md\n"
    }
   },
   "source": [
    "At first glance without a selection, the user is presented with two graphs: a scatter plot that shows the per capita income of each neighborhood in Chicago and a bar chart that shows each community area and their \"hardship index\". The first chart has a degrading color scheme where the points with less opacity have a lower per capita income and the points with more opacity have a higher per capita income. The second chart uses a hardship index, which is an intersectional point that describes the \"hardship\" of a certain community. Some of the data included in this hardship index are poverty, per capita income, education and crowded housing. With the interaction between the two visualizations, one could click and drag to select data points and those data points would be represented in the graph below. This is useful because a user would be able to see the difference in hardship between two or more communities and make inferences based on their per capita income. This interactive visualization also changes with the data points that are selected which could further engage the audience and display the data more accurately. While selecting the data points, the audience can only see the data points that are being selected at given point. With this, this shows a strong comparison between the different types of per capita and hardhsip index.\n",
    "\n",
    "https://data.cityofchicago.org/Health-Human-Services/Census-Data-Languages-spoken-in-Chicago-2008-2012/a2fk-ec6q\n",
    "    The languages spoken of each community are important in comparison to our own dataset because it shows a correlation between language barriers and the different hardships that people can experience while living in Chicago. \n",
    "    \n",
    "The size of the data for both is under 12kb, which is way under the required limit for GitHub uploads.\n",
    "\n"
   ]
  },
  {
   "cell_type": "code",
   "execution_count": null,
   "id": "ddc79a24",
   "metadata": {
    "pycharm": {
     "name": "#%%\n"
    }
   },
   "outputs": [],
   "source": []
  }
 ],
 "metadata": {
  "kernelspec": {
   "display_name": "Python 3 (ipykernel)",
   "language": "python",
   "name": "python3"
  },
  "language_info": {
   "codemirror_mode": {
    "name": "ipython",
    "version": 3
   },
   "file_extension": ".py",
   "mimetype": "text/x-python",
   "name": "python",
   "nbconvert_exporter": "python",
   "pygments_lexer": "ipython3",
   "version": "3.7.12"
  }
 },
 "nbformat": 4,
 "nbformat_minor": 5
}